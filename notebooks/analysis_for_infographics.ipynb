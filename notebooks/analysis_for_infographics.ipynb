{
 "cells": [
  {
   "cell_type": "code",
   "execution_count": 1,
   "id": "a7a5d13d",
   "metadata": {},
   "outputs": [],
   "source": [
    "import pandas as pd"
   ]
  },
  {
   "cell_type": "markdown",
   "id": "a945eab8",
   "metadata": {},
   "source": [
    "## Get data from CSV"
   ]
  },
  {
   "cell_type": "code",
   "execution_count": 2,
   "id": "0586e0e5",
   "metadata": {},
   "outputs": [
    {
     "data": {
      "text/plain": [
       "Index(['web-scraper-order', 'web-scraper-start-url', 'link', 'link-href',\n",
       "       'mileage_km', 'power', 'gearbox', 'previous_owners', 'category',\n",
       "       'origin', 'cubic_capacity', 'fuel', 'basic_fuel_type',\n",
       "       'energy_efficiency_class', 'n_seats', 'door_count', 'emission_class',\n",
       "       'emission_sticker', 'first_registration', 'hu_val', 'climatisation',\n",
       "       'parking_sensors', 'airbags', 'color_manufacturer', 'color',\n",
       "       'interiro_design', 'price', 'price_type', 'seller_address',\n",
       "       'seller_since', 'seller_languages', 'model', 'seller_rating',\n",
       "       'seller_n_rating', 'vehicle_special_features', 'all_feature',\n",
       "       'pagination', 'title', 'page_title', 'description'],\n",
       "      dtype='object')"
      ]
     },
     "execution_count": 2,
     "metadata": {},
     "output_type": "execute_result"
    }
   ],
   "source": [
    "df = pd.read_csv(\"../data/mobile_de_detailed_new.csv\")\n",
    "df.columns"
   ]
  },
  {
   "cell_type": "markdown",
   "id": "5861656d",
   "metadata": {},
   "source": [
    "## Most popular brands"
   ]
  },
  {
   "cell_type": "code",
   "execution_count": 3,
   "id": "03c99bbb",
   "metadata": {},
   "outputs": [
    {
     "data": {
      "text/plain": [
       "0    Audi A6 2.8 FSI Start-Stopp XENON+SPORTSITZE+P...\n",
       "1    Mercedes-Benz E 250 ELEGANCE | AUTOMAAT | LEDE...\n",
       "2    Audi A4 Allroad 3.0 TDI qu ACC,SCHECKHEFT,KAME...\n",
       "3                  Volkswagen Golf VII Comfortline BMT\n",
       "4    Mercedes-Benz C 180 CGI Lim. BlueEfficiency Av...\n",
       "Name: title, dtype: object"
      ]
     },
     "execution_count": 3,
     "metadata": {},
     "output_type": "execute_result"
    }
   ],
   "source": [
    "df.title.head()"
   ]
  },
  {
   "cell_type": "code",
   "execution_count": 4,
   "id": "ed513c8a",
   "metadata": {},
   "outputs": [
    {
     "data": {
      "text/plain": [
       "Volkswagen       54.523227\n",
       "Mercedes-Benz    21.271394\n",
       "Audi             13.691932\n",
       "BMW               9.290954\n",
       "Toyota            0.244499\n",
       "Skoda             0.244499\n",
       "MINI              0.244499\n",
       "Ford              0.244499\n",
       "Kia               0.244499\n",
       "Name: brand, dtype: float64"
      ]
     },
     "execution_count": 4,
     "metadata": {},
     "output_type": "execute_result"
    }
   ],
   "source": [
    "df['brand'] = df.title.str.split().str[0]\n",
    "df['brand'].value_counts(normalize=True) * 100"
   ]
  },
  {
   "cell_type": "code",
   "execution_count": 5,
   "id": "f2962c9f",
   "metadata": {},
   "outputs": [
    {
     "data": {
      "text/plain": [
       "<AxesSubplot:ylabel='brand'>"
      ]
     },
     "execution_count": 5,
     "metadata": {},
     "output_type": "execute_result"
    },
    {
     "data": {
      "image/png": "[encoded data removed]",
      "text/plain": [
       "<Figure size 432x288 with 1 Axes>"
      ]
     },
     "metadata": {},
     "output_type": "display_data"
    }
   ],
   "source": [
    "df['brand'].value_counts(normalize=True).plot.pie()"
   ]
  },
  {
   "cell_type": "markdown",
   "id": "b3fb34d3",
   "metadata": {},
   "source": [
    "### Export the data to csv to plot using canva"
   ]
  },
  {
   "cell_type": "code",
   "execution_count": 6,
   "id": "bc74f774",
   "metadata": {},
   "outputs": [],
   "source": [
    "df['brand'].value_counts(normalize=True).to_csv(\"../output_data/popular_brands.csv\")"
   ]
  },
  {
   "cell_type": "markdown",
   "id": "61f5c92f",
   "metadata": {},
   "source": [
    "## Average price of cars"
   ]
  },
  {
   "cell_type": "code",
   "execution_count": 7,
   "id": "3265bf2b",
   "metadata": {},
   "outputs": [
    {
     "data": {
      "text/plain": [
       "0    €15,960\n",
       "1    €22,500\n",
       "2    €21,880\n",
       "3    €13,490\n",
       "4    €14,490\n",
       "Name: price, dtype: object"
      ]
     },
     "execution_count": 7,
     "metadata": {},
     "output_type": "execute_result"
    }
   ],
   "source": [
    "df.price.head()"
   ]
  },
  {
   "cell_type": "code",
   "execution_count": 8,
   "id": "9be90659",
   "metadata": {},
   "outputs": [],
   "source": [
    "df['price_cleaned'] = (\n",
    "    df.price\n",
    "            .str.replace(\"€\", \"\")\n",
    "            .str.replace(\",\", \"\")\n",
    "            .str.replace(\".\", \"\", regex=False)\n",
    "            .astype(float)\n",
    ")"
   ]
  },
  {
   "cell_type": "code",
   "execution_count": 9,
   "id": "aabe6ea6",
   "metadata": {},
   "outputs": [
    {
     "data": {
      "text/plain": [
       "<AxesSubplot:>"
      ]
     },
     "execution_count": 9,
     "metadata": {},
     "output_type": "execute_result"
    },
    {
     "data": {
      "image/png": "[encoded data removed]",
      "text/plain": [
       "<Figure size 432x288 with 1 Axes>"
      ]
     },
     "metadata": {
      "needs_background": "light"
     },
     "output_type": "display_data"
    }
   ],
   "source": [
    "df.price_cleaned.hist(ylabelsize=0)"
   ]
  },
  {
   "cell_type": "code",
   "execution_count": 10,
   "id": "3bda275f",
   "metadata": {},
   "outputs": [
    {
     "data": {
      "text/plain": [
       "16999.0"
      ]
     },
     "execution_count": 10,
     "metadata": {},
     "output_type": "execute_result"
    }
   ],
   "source": [
    "df.price_cleaned.median()"
   ]
  },
  {
   "cell_type": "markdown",
   "id": "90b9f6df",
   "metadata": {},
   "source": [
    "### The median price is 16999 Eur"
   ]
  },
  {
   "cell_type": "markdown",
   "id": "8e30d723",
   "metadata": {},
   "source": [
    "## Popular car colors"
   ]
  },
  {
   "cell_type": "code",
   "execution_count": 11,
   "id": "1a2e5562",
   "metadata": {},
   "outputs": [
    {
     "data": {
      "text/plain": [
       "0              Black\n",
       "1     White Metallic\n",
       "2    Silver Metallic\n",
       "3      Blue Metallic\n",
       "4    Silver Metallic\n",
       "Name: color, dtype: object"
      ]
     },
     "execution_count": 11,
     "metadata": {},
     "output_type": "execute_result"
    }
   ],
   "source": [
    "df.color.head()"
   ]
  },
  {
   "cell_type": "code",
   "execution_count": 12,
   "id": "286b0b90",
   "metadata": {},
   "outputs": [],
   "source": [
    "# We want to keep Black and Black mettalic in same group.\n",
    "df['color_cleaned'] = df.color.str.split().str[0]"
   ]
  },
  {
   "cell_type": "code",
   "execution_count": 13,
   "id": "00780e95",
   "metadata": {},
   "outputs": [
    {
     "data": {
      "text/plain": [
       "Black      30.521092\n",
       "White      17.866005\n",
       "Grey       17.866005\n",
       "Silver     14.392060\n",
       "Blue        9.429280\n",
       "Brown       3.970223\n",
       "Red         3.225806\n",
       "Gold        0.744417\n",
       "Orange      0.496278\n",
       "Schwarz     0.496278\n",
       "Beige       0.496278\n",
       "Green       0.248139\n",
       "Yellow      0.248139\n",
       "Name: color_cleaned, dtype: float64"
      ]
     },
     "execution_count": 13,
     "metadata": {},
     "output_type": "execute_result"
    }
   ],
   "source": [
    "df['color_cleaned'].value_counts(normalize=True) * 100"
   ]
  },
  {
   "cell_type": "code",
   "execution_count": 14,
   "id": "8f1b1237",
   "metadata": {},
   "outputs": [],
   "source": [
    "df['color_cleaned'].value_counts(normalize=True).to_csv(\"../output_data/car_color.csv\")"
   ]
  },
  {
   "cell_type": "markdown",
   "id": "4fe256fa",
   "metadata": {},
   "source": [
    "## Car Types"
   ]
  },
  {
   "cell_type": "code",
   "execution_count": 15,
   "id": "8929fe31",
   "metadata": {},
   "outputs": [
    {
     "data": {
      "text/plain": [
       "Saloon                                   35.207824\n",
       "Estate Car                               19.804401\n",
       "SUV / Off-road Vehicle / Pickup Truck    14.425428\n",
       "Cabriolet / Roadster                     12.224939\n",
       "Van / Minibus                             9.535452\n",
       "Sports Car / Coupe                        6.112469\n",
       "Small Car                                 1.466993\n",
       "Other                                     0.977995\n",
       "Limousine                                 0.244499\n",
       "Name: category, dtype: float64"
      ]
     },
     "execution_count": 15,
     "metadata": {},
     "output_type": "execute_result"
    }
   ],
   "source": [
    "df.category.value_counts(normalize=True) * 100"
   ]
  },
  {
   "cell_type": "code",
   "execution_count": 16,
   "id": "4ca0b48b",
   "metadata": {},
   "outputs": [],
   "source": [
    "df.category.value_counts(normalize=True).to_csv(\"../output_data/car_type.csv\")"
   ]
  },
  {
   "cell_type": "markdown",
   "id": "3610b22a",
   "metadata": {},
   "source": [
    "## Manual vs Automatic"
   ]
  },
  {
   "cell_type": "code",
   "execution_count": 17,
   "id": "a1dead4f",
   "metadata": {},
   "outputs": [
    {
     "data": {
      "text/plain": [
       "Automatic transmission    0.615196\n",
       "Manual gearbox            0.379902\n",
       "Schaltgetriebe            0.002451\n",
       "Automatik                 0.002451\n",
       "Name: gearbox, dtype: float64"
      ]
     },
     "execution_count": 17,
     "metadata": {},
     "output_type": "execute_result"
    }
   ],
   "source": [
    "df.gearbox.value_counts(normalize=True)"
   ]
  },
  {
   "cell_type": "code",
   "execution_count": 18,
   "id": "fd582190",
   "metadata": {},
   "outputs": [],
   "source": [
    "# some of them contain german names. Need to change it to english\n",
    "df['gearbox'] = (\n",
    "    df.gearbox\n",
    "              .str.replace(\"Automatik\", \"Automatic\")\n",
    "              .str.replace(\"Schaltgetriebe\", \"Manual\")\n",
    "              .str.split().str[0]\n",
    ")"
   ]
  },
  {
   "cell_type": "code",
   "execution_count": 19,
   "id": "77fd1ea1",
   "metadata": {},
   "outputs": [
    {
     "data": {
      "text/plain": [
       "Automatic    61.764706\n",
       "Manual       38.235294\n",
       "Name: gearbox, dtype: float64"
      ]
     },
     "execution_count": 19,
     "metadata": {},
     "output_type": "execute_result"
    }
   ],
   "source": [
    "df['gearbox'].value_counts(normalize=True)*100"
   ]
  },
  {
   "cell_type": "markdown",
   "id": "adbb7bfe",
   "metadata": {},
   "source": [
    "### Percentage of Manual cars: 38%"
   ]
  },
  {
   "cell_type": "markdown",
   "id": "4d630680",
   "metadata": {},
   "source": [
    "## Petrol, Diesel, Gas or other fuels"
   ]
  },
  {
   "cell_type": "code",
   "execution_count": 20,
   "id": "bc5f94ce",
   "metadata": {},
   "outputs": [
    {
     "data": {
      "text/plain": [
       "Diesel                 0.474328\n",
       "Petrol                 0.459658\n",
       "Petrol, E10-enabled    0.063570\n",
       "Benzin                 0.002445\n",
       "Name: fuel, dtype: float64"
      ]
     },
     "execution_count": 20,
     "metadata": {},
     "output_type": "execute_result"
    }
   ],
   "source": [
    "df.fuel.value_counts(normalize=True)"
   ]
  },
  {
   "cell_type": "code",
   "execution_count": 21,
   "id": "eedd92e9",
   "metadata": {},
   "outputs": [],
   "source": [
    "df['fuel'] = (\n",
    "    df.fuel\n",
    "           .str.split().str[0]\n",
    "           .str.replace(\"Benzin\", \"Petrol\")\n",
    "           .str.replace(\"Petrol,\", \"Petrol\")\n",
    ")"
   ]
  },
  {
   "cell_type": "code",
   "execution_count": 22,
   "id": "afa0a439",
   "metadata": {},
   "outputs": [
    {
     "data": {
      "text/plain": [
       "Petrol    0.525672\n",
       "Diesel    0.474328\n",
       "Name: fuel, dtype: float64"
      ]
     },
     "execution_count": 22,
     "metadata": {},
     "output_type": "execute_result"
    }
   ],
   "source": [
    "df.fuel.value_counts(normalize=True)"
   ]
  },
  {
   "cell_type": "markdown",
   "id": "2e1634a0",
   "metadata": {},
   "source": [
    "## Percentage of petrol cars: 53%"
   ]
  },
  {
   "cell_type": "markdown",
   "id": "e254915e",
   "metadata": {},
   "source": [
    "## What is the average km a car driven per day"
   ]
  },
  {
   "cell_type": "code",
   "execution_count": 23,
   "id": "bf4e83e6",
   "metadata": {},
   "outputs": [
    {
     "data": {
      "text/plain": [
       "0    116.060 km\n",
       "1    102.000 km\n",
       "2     96.000 km\n",
       "3     89.948 km\n",
       "4     77.000 km\n",
       "Name: mileage_km, dtype: object"
      ]
     },
     "execution_count": 23,
     "metadata": {},
     "output_type": "execute_result"
    }
   ],
   "source": [
    "# We need to use mileage_km and first_registration\n",
    "df.mileage_km.head()"
   ]
  },
  {
   "cell_type": "code",
   "execution_count": 24,
   "id": "cc01e192",
   "metadata": {},
   "outputs": [],
   "source": [
    "df['mileage_km_cleaned'] = (\n",
    "    df.mileage_km\n",
    "                 .str.split().str[0]\n",
    "                 .str.replace(\".\", \"\", regex=False)\n",
    "                 .astype(int)\n",
    "    \n",
    ")"
   ]
  },
  {
   "cell_type": "code",
   "execution_count": 25,
   "id": "e6adbf06",
   "metadata": {},
   "outputs": [
    {
     "data": {
      "text/plain": [
       "0    116060\n",
       "1    102000\n",
       "2     96000\n",
       "3     89948\n",
       "4     77000\n",
       "Name: mileage_km_cleaned, dtype: int64"
      ]
     },
     "execution_count": 25,
     "metadata": {},
     "output_type": "execute_result"
    }
   ],
   "source": [
    "df['mileage_km_cleaned'].head()"
   ]
  },
  {
   "cell_type": "markdown",
   "id": "e7cbb76c",
   "metadata": {},
   "source": [
    "### For days the car was driven, we need to subtract registration from current day"
   ]
  },
  {
   "cell_type": "code",
   "execution_count": 26,
   "id": "dc3ed6cb",
   "metadata": {},
   "outputs": [
    {
     "data": {
      "text/plain": [
       "0    12/2012\n",
       "1    07/2014\n",
       "2    09/2013\n",
       "3    04/2014\n",
       "4    05/2011\n",
       "Name: first_registration, dtype: object"
      ]
     },
     "execution_count": 26,
     "metadata": {},
     "output_type": "execute_result"
    }
   ],
   "source": [
    "df.first_registration.head()"
   ]
  },
  {
   "cell_type": "code",
   "execution_count": 27,
   "id": "470f311e",
   "metadata": {},
   "outputs": [],
   "source": [
    "df['first_registration'] = df.first_registration.astype(\"datetime64\")"
   ]
  },
  {
   "cell_type": "code",
   "execution_count": 28,
   "id": "1836eb80",
   "metadata": {},
   "outputs": [],
   "source": [
    "current_date = pd.to_datetime(\"2022-11-27\")\n",
    "df['days_old'] = (current_date - df['first_registration']).dt.days"
   ]
  },
  {
   "cell_type": "code",
   "execution_count": 29,
   "id": "6b4101ba",
   "metadata": {},
   "outputs": [
    {
     "data": {
      "text/plain": [
       "0    3648\n",
       "1    3071\n",
       "2    3374\n",
       "3    3162\n",
       "4    4228\n",
       "Name: days_old, dtype: int64"
      ]
     },
     "execution_count": 29,
     "metadata": {},
     "output_type": "execute_result"
    }
   ],
   "source": [
    "df['days_old'].head()"
   ]
  },
  {
   "cell_type": "code",
   "execution_count": 30,
   "id": "01c10ba7",
   "metadata": {},
   "outputs": [],
   "source": [
    "df['km_per_day'] = df['mileage_km_cleaned'] / df['days_old']"
   ]
  },
  {
   "cell_type": "code",
   "execution_count": 31,
   "id": "2fa66ec9",
   "metadata": {},
   "outputs": [
    {
     "data": {
      "text/plain": [
       "27.50212645307627"
      ]
     },
     "execution_count": 31,
     "metadata": {},
     "output_type": "execute_result"
    }
   ],
   "source": [
    "df['km_per_day'].median()"
   ]
  },
  {
   "cell_type": "markdown",
   "id": "79fb9c32",
   "metadata": {},
   "source": [
    "### Car driven in average: 27 km per day"
   ]
  },
  {
   "cell_type": "markdown",
   "id": "d6925b60",
   "metadata": {},
   "source": [
    "## Average ownership of car"
   ]
  },
  {
   "cell_type": "code",
   "execution_count": 32,
   "id": "aa559ad7",
   "metadata": {},
   "outputs": [
    {
     "data": {
      "text/plain": [
       "2.0    0.570447\n",
       "1.0    0.298969\n",
       "3.0    0.113402\n",
       "4.0    0.010309\n",
       "0.0    0.006873\n",
       "Name: previous_owners, dtype: float64"
      ]
     },
     "execution_count": 32,
     "metadata": {},
     "output_type": "execute_result"
    }
   ],
   "source": [
    "df.previous_owners.value_counts(normalize=True)"
   ]
  },
  {
   "cell_type": "code",
   "execution_count": 33,
   "id": "3f6407d2",
   "metadata": {},
   "outputs": [],
   "source": [
    "df['average_ownership'] = df.days_old / df.previous_owners"
   ]
  },
  {
   "cell_type": "code",
   "execution_count": 34,
   "id": "5175496e",
   "metadata": {},
   "outputs": [
    {
     "data": {
      "text/plain": [
       "1824.0"
      ]
     },
     "execution_count": 34,
     "metadata": {},
     "output_type": "execute_result"
    }
   ],
   "source": [
    "df['average_ownership'].median()"
   ]
  },
  {
   "cell_type": "markdown",
   "id": "9ef9c907",
   "metadata": {},
   "source": [
    "### Average ownwership = 1824 days == 5 years"
   ]
  },
  {
   "cell_type": "markdown",
   "id": "baa3a1fc",
   "metadata": {},
   "source": [
    "## How many cars are accident_free?"
   ]
  },
  {
   "cell_type": "code",
   "execution_count": 35,
   "id": "e6ea0e9a",
   "metadata": {},
   "outputs": [],
   "source": [
    "df['is_accident_free'] = df.description.str.lower().str.contains(\"accident-free\")"
   ]
  },
  {
   "cell_type": "code",
   "execution_count": 36,
   "id": "1b79c563",
   "metadata": {},
   "outputs": [
    {
     "data": {
      "text/plain": [
       "False    0.503667\n",
       "True     0.496333\n",
       "Name: is_accident_free, dtype: float64"
      ]
     },
     "execution_count": 36,
     "metadata": {},
     "output_type": "execute_result"
    }
   ],
   "source": [
    "df['is_accident_free'].value_counts(normalize=True)"
   ]
  },
  {
   "cell_type": "markdown",
   "id": "5f41fa97",
   "metadata": {},
   "source": [
    "### Almost half of the cars are accident free"
   ]
  },
  {
   "cell_type": "code",
   "execution_count": null,
   "id": "f62ae41f",
   "metadata": {},
   "outputs": [],
   "source": []
  }
 ],
 "metadata": {
  "kernelspec": {
   "display_name": "Python 3",
   "language": "python",
   "name": "python3"
  },
  "language_info": {
   "codemirror_mode": {
    "name": "ipython",
    "version": 3
   },
   "file_extension": ".py",
   "mimetype": "text/x-python",
   "name": "python",
   "nbconvert_exporter": "python",
   "pygments_lexer": "ipython3",
   "version": "3.8.8"
  }
 },
 "nbformat": 4,
 "nbformat_minor": 5
}
